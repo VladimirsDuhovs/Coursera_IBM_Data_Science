{
    "cells": [
        {
            "cell_type": "markdown",
            "metadata": {
                "collapsed": true
            },
            "source": "# My Jupyter Notebook on IBM Watson Studio"
        },
        {
            "cell_type": "markdown",
            "metadata": {},
            "source": "__Vladimirs Duhovs__\n\nMy current ocupation is a record producer."
        },
        {
            "cell_type": "markdown",
            "metadata": {},
            "source": "_I am interested in data science since through data science\nI would be able to develop and cultivate a fresh and cold perspective\non the modern environment_"
        },
        {
            "cell_type": "markdown",
            "metadata": {},
            "source": "### My code is supposed to output a simple addition of two integers"
        },
        {
            "cell_type": "code",
            "execution_count": 1,
            "metadata": {},
            "outputs": [
                {
                    "name": "stdout",
                    "output_type": "stream",
                    "text": "5 + 8 = 13\n"
                }
            ],
            "source": "int_a = 5\nint_b = 8\nprint(f\"{int_a} + {int_b} = {int_a + int_b}\")"
        },
        {
            "cell_type": "markdown",
            "metadata": {},
            "source": "- one\n- two\n- three\n- one\n- two\n- three\n\n|**Markdown**|**Less**|**Pretty**|\n|------------|--------|----------|\n|_Still_|renders|**nicely**|\n|1|2|3|\n\n[IBM](www.ibm.com)"
        }
    ],
    "metadata": {
        "kernelspec": {
            "display_name": "Python 3.8",
            "language": "python",
            "name": "python3"
        },
        "language_info": {
            "codemirror_mode": {
                "name": "ipython",
                "version": 3
            },
            "file_extension": ".py",
            "mimetype": "text/x-python",
            "name": "python",
            "nbconvert_exporter": "python",
            "pygments_lexer": "ipython3",
            "version": "3.8.11"
        }
    },
    "nbformat": 4,
    "nbformat_minor": 1
}